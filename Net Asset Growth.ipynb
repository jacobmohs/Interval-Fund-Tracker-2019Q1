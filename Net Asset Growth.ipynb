{
 "cells": [
  {
   "cell_type": "code",
   "execution_count": 19,
   "metadata": {
    "scrolled": true
   },
   "outputs": [],
   "source": [
    "#http://www.intervalfundtracker.com\n",
    "import plotly.plotly as py\n",
    "import plotly.graph_objs as go\n",
    "import plotly.figure_factory as FF\n",
    "\n",
    "import numpy as np\n",
    "import pandas as pd\n",
    "\n",
    "#import the data\n",
    "df = pd.read_csv('total_net_asset_growth.csv')  #change this depending on directory where you store csv file\n",
    "\n",
    "\n",
    "#chart data source and layout\n",
    "trace1 = go.Bar(\n",
    "                    x=df['Filing Date'], y=df['Net Assets'], name='Net Assets', yaxis='y'# Data\n",
    "                    \n",
    "                   )\n",
    "trace2 = go.Scatter(\n",
    "    x=df['Filing Date'],\n",
    "    y=df['QOQ'],name='%Change QOQ',\n",
    "    yaxis='y2'\n",
    ")\n",
    "\n",
    "layout = go.Layout(\n",
    "    title='Interval Fund Net Asset Growth', legend=dict(orientation=\"h\"), \n",
    "    yaxis=dict(\n",
    "        title='Aggregate Net Assets($)', side ='left', range=[0, 30000000000]\n",
    "    ),\n",
    "    yaxis2=dict(       \n",
    "       overlaying='y', side='right',tickformat=\"%\", showgrid=False, range=[-.005, .20])\n",
    ")\n",
    "#df.head()\n"
   ]
  },
  {
   "cell_type": "code",
   "execution_count": 20,
   "metadata": {},
   "outputs": [
    {
     "data": {
      "text/html": [
       "<iframe id=\"igraph\" scrolling=\"no\" style=\"border:none;\" seamless=\"seamless\" src=\"https://plot.ly/~jacobmohs/16.embed\" height=\"525px\" width=\"100%\"></iframe>"
      ],
      "text/plain": [
       "<plotly.tools.PlotlyDisplay object>"
      ]
     },
     "execution_count": 20,
     "metadata": {},
     "output_type": "execute_result"
    }
   ],
   "source": [
    "data = [trace1, trace2]\n",
    "fig = go.Figure(data=data, layout=layout)\n",
    "py.iplot(fig, filename='net_asset_growth')"
   ]
  },
  {
   "cell_type": "code",
   "execution_count": null,
   "metadata": {},
   "outputs": [],
   "source": []
  }
 ],
 "metadata": {
  "kernelspec": {
   "display_name": "Python 3",
   "language": "python",
   "name": "python3"
  },
  "language_info": {
   "codemirror_mode": {
    "name": "ipython",
    "version": 3
   },
   "file_extension": ".py",
   "mimetype": "text/x-python",
   "name": "python",
   "nbconvert_exporter": "python",
   "pygments_lexer": "ipython3",
   "version": "3.6.4"
  }
 },
 "nbformat": 4,
 "nbformat_minor": 2
}
