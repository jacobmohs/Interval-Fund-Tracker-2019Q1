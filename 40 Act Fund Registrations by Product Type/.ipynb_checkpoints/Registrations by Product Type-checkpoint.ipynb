{
 "cells": [
  {
   "cell_type": "code",
   "execution_count": 7,
   "metadata": {},
   "outputs": [],
   "source": [
    "#http://www.intervalfundtracker.com\n",
    "import plotly.plotly as py\n",
    "import plotly.graph_objs as go\n",
    "import plotly.figure_factory as FF\n",
    "import cufflinks as cf\n",
    "import numpy as np\n",
    "import pandas as pd\n",
    "import seaborn\n",
    "#import the data\n",
    "df = pd.read_csv('registrations.csv')#change this depending on directory where you store csv file"
   ]
  },
  {
   "cell_type": "code",
   "execution_count": 9,
   "metadata": {},
   "outputs": [
    {
     "ename": "SyntaxError",
     "evalue": "invalid syntax (<ipython-input-9-055fcdef87f0>, line 10)",
     "output_type": "error",
     "traceback": [
      "\u001b[1;36m  File \u001b[1;32m\"<ipython-input-9-055fcdef87f0>\"\u001b[1;36m, line \u001b[1;32m10\u001b[0m\n\u001b[1;33m    data = [trace1]\u001b[0m\n\u001b[1;37m       ^\u001b[0m\n\u001b[1;31mSyntaxError\u001b[0m\u001b[1;31m:\u001b[0m invalid syntax\n"
     ]
    }
   ],
   "source": [
    "trace1 = go.Bar(\n",
    "                    x=df['Quarter'], y=df['Non-traded REITs', \"Non-traded BDCs\",\"Interval Funds\",\"Tender Offer Funds\"] )# Data)\n",
    "layout = go.Layout(\n",
    "    title='New Fund Registrations', legend=dict(orientation=\"h\"), \n",
    "    yaxis=dict(\n",
    "        title='Number of new Funds', side ='left', range=[0, 8]    ), xaxis=dict(\n",
    "        title='Source: Interval Fund Tracker'  )\n",
    "\n",
    "    \n",
    "data = [trace1]\n",
    "fig = go.Figure(data=data, layout= layout)\n",
    "py.iplot(fig, filename='fund_launches')\n",
    "\n",
    "    \n",
    "    "
   ]
  },
  {
   "cell_type": "code",
   "execution_count": null,
   "metadata": {},
   "outputs": [],
   "source": []
  }
 ],
 "metadata": {
  "kernelspec": {
   "display_name": "Python 3",
   "language": "python",
   "name": "python3"
  },
  "language_info": {
   "codemirror_mode": {
    "name": "ipython",
    "version": 3
   },
   "file_extension": ".py",
   "mimetype": "text/x-python",
   "name": "python",
   "nbconvert_exporter": "python",
   "pygments_lexer": "ipython3",
   "version": "3.6.4"
  }
 },
 "nbformat": 4,
 "nbformat_minor": 2
}
