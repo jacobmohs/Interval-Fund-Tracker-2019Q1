{
 "cells": [
  {
   "cell_type": "code",
   "execution_count": 1,
   "metadata": {},
   "outputs": [
    {
     "name": "stdout",
     "output_type": "stream",
     "text": [
      "https://www.sec.gov/Archives/edgar/full-index/2007/QTR1/crawler.idx downloaded and wrote to SQLite\n",
      "https://www.sec.gov/Archives/edgar/full-index/2007/QTR2/crawler.idx downloaded and wrote to SQLite\n",
      "https://www.sec.gov/Archives/edgar/full-index/2007/QTR3/crawler.idx downloaded and wrote to SQLite\n",
      "https://www.sec.gov/Archives/edgar/full-index/2007/QTR4/crawler.idx downloaded and wrote to SQLite\n",
      "https://www.sec.gov/Archives/edgar/full-index/2008/QTR1/crawler.idx downloaded and wrote to SQLite\n",
      "https://www.sec.gov/Archives/edgar/full-index/2008/QTR2/crawler.idx downloaded and wrote to SQLite\n",
      "https://www.sec.gov/Archives/edgar/full-index/2008/QTR3/crawler.idx downloaded and wrote to SQLite\n",
      "https://www.sec.gov/Archives/edgar/full-index/2008/QTR4/crawler.idx downloaded and wrote to SQLite\n",
      "https://www.sec.gov/Archives/edgar/full-index/2009/QTR1/crawler.idx downloaded and wrote to SQLite\n",
      "https://www.sec.gov/Archives/edgar/full-index/2009/QTR2/crawler.idx downloaded and wrote to SQLite\n",
      "https://www.sec.gov/Archives/edgar/full-index/2009/QTR3/crawler.idx downloaded and wrote to SQLite\n",
      "https://www.sec.gov/Archives/edgar/full-index/2009/QTR4/crawler.idx downloaded and wrote to SQLite\n",
      "https://www.sec.gov/Archives/edgar/full-index/2010/QTR1/crawler.idx downloaded and wrote to SQLite\n",
      "https://www.sec.gov/Archives/edgar/full-index/2010/QTR2/crawler.idx downloaded and wrote to SQLite\n",
      "https://www.sec.gov/Archives/edgar/full-index/2010/QTR3/crawler.idx downloaded and wrote to SQLite\n",
      "https://www.sec.gov/Archives/edgar/full-index/2010/QTR4/crawler.idx downloaded and wrote to SQLite\n",
      "https://www.sec.gov/Archives/edgar/full-index/2011/QTR1/crawler.idx downloaded and wrote to SQLite\n",
      "https://www.sec.gov/Archives/edgar/full-index/2011/QTR2/crawler.idx downloaded and wrote to SQLite\n",
      "https://www.sec.gov/Archives/edgar/full-index/2011/QTR3/crawler.idx downloaded and wrote to SQLite\n",
      "https://www.sec.gov/Archives/edgar/full-index/2011/QTR4/crawler.idx downloaded and wrote to SQLite\n",
      "https://www.sec.gov/Archives/edgar/full-index/2012/QTR1/crawler.idx downloaded and wrote to SQLite\n",
      "https://www.sec.gov/Archives/edgar/full-index/2012/QTR2/crawler.idx downloaded and wrote to SQLite\n",
      "https://www.sec.gov/Archives/edgar/full-index/2012/QTR3/crawler.idx downloaded and wrote to SQLite\n",
      "https://www.sec.gov/Archives/edgar/full-index/2012/QTR4/crawler.idx downloaded and wrote to SQLite\n",
      "https://www.sec.gov/Archives/edgar/full-index/2013/QTR1/crawler.idx downloaded and wrote to SQLite\n",
      "https://www.sec.gov/Archives/edgar/full-index/2013/QTR2/crawler.idx downloaded and wrote to SQLite\n",
      "https://www.sec.gov/Archives/edgar/full-index/2013/QTR3/crawler.idx downloaded and wrote to SQLite\n",
      "https://www.sec.gov/Archives/edgar/full-index/2013/QTR4/crawler.idx downloaded and wrote to SQLite\n",
      "https://www.sec.gov/Archives/edgar/full-index/2014/QTR1/crawler.idx downloaded and wrote to SQLite\n",
      "https://www.sec.gov/Archives/edgar/full-index/2014/QTR2/crawler.idx downloaded and wrote to SQLite\n",
      "https://www.sec.gov/Archives/edgar/full-index/2014/QTR3/crawler.idx downloaded and wrote to SQLite\n",
      "https://www.sec.gov/Archives/edgar/full-index/2014/QTR4/crawler.idx downloaded and wrote to SQLite\n",
      "https://www.sec.gov/Archives/edgar/full-index/2015/QTR1/crawler.idx downloaded and wrote to SQLite\n",
      "https://www.sec.gov/Archives/edgar/full-index/2015/QTR2/crawler.idx downloaded and wrote to SQLite\n",
      "https://www.sec.gov/Archives/edgar/full-index/2015/QTR3/crawler.idx downloaded and wrote to SQLite\n",
      "https://www.sec.gov/Archives/edgar/full-index/2015/QTR4/crawler.idx downloaded and wrote to SQLite\n",
      "https://www.sec.gov/Archives/edgar/full-index/2016/QTR1/crawler.idx downloaded and wrote to SQLite\n",
      "https://www.sec.gov/Archives/edgar/full-index/2016/QTR2/crawler.idx downloaded and wrote to SQLite\n",
      "https://www.sec.gov/Archives/edgar/full-index/2016/QTR3/crawler.idx downloaded and wrote to SQLite\n",
      "https://www.sec.gov/Archives/edgar/full-index/2016/QTR4/crawler.idx downloaded and wrote to SQLite\n",
      "https://www.sec.gov/Archives/edgar/full-index/2017/QTR1/crawler.idx downloaded and wrote to SQLite\n",
      "https://www.sec.gov/Archives/edgar/full-index/2017/QTR2/crawler.idx downloaded and wrote to SQLite\n",
      "https://www.sec.gov/Archives/edgar/full-index/2017/QTR3/crawler.idx downloaded and wrote to SQLite\n",
      "https://www.sec.gov/Archives/edgar/full-index/2017/QTR4/crawler.idx downloaded and wrote to SQLite\n",
      "https://www.sec.gov/Archives/edgar/full-index/2018/QTR1/crawler.idx downloaded and wrote to SQLite\n",
      "https://www.sec.gov/Archives/edgar/full-index/2018/QTR2/crawler.idx downloaded and wrote to SQLite\n",
      "https://www.sec.gov/Archives/edgar/full-index/2018/QTR3/crawler.idx downloaded and wrote to SQLite\n",
      "https://www.sec.gov/Archives/edgar/full-index/2018/QTR4/crawler.idx downloaded and wrote to SQLite\n",
      "https://www.sec.gov/Archives/edgar/full-index/2019/QTR1/crawler.idx downloaded and wrote to SQLite\n",
      "https://www.sec.gov/Archives/edgar/full-index/2019/QTR2/crawler.idx downloaded and wrote to SQLite\n",
      "https://www.sec.gov/Archives/edgar/full-index/2019/QTR3/crawler.idx downloaded and wrote to SQLite\n",
      "https://www.sec.gov/Archives/edgar/full-index/2019/QTR4/crawler.idx downloaded and wrote to SQLite\n",
      "https://www.sec.gov/Archives/edgar/full-index/2020/QTR1/crawler.idx downloaded and wrote to SQLite\n"
     ]
    }
   ],
   "source": [
    "# Generate the list of index files archived in EDGAR since start_year (earliest: 1993) until the most recent quarter\n",
    "import datetime\n",
    " \n",
    "current_year = datetime.date.today().year\n",
    "current_quarter = (datetime.date.today().month - 1) // 3 + 1\n",
    "start_year = 2007\n",
    "years = list(range(start_year, current_year))\n",
    "quarters = ['QTR1', 'QTR2', 'QTR3', 'QTR4']\n",
    "history = [(y, q) for y in years for q in quarters]\n",
    "for i in range(1, current_quarter + 1):\n",
    "    history.append((current_year, 'QTR%d' % i))\n",
    "urls = ['https://www.sec.gov/Archives/edgar/full-index/%d/%s/crawler.idx' % (x[0], x[1]) for x in history]\n",
    "urls.sort()\n",
    " \n",
    "# Download index files and write content into SQLite\n",
    "import sqlite3\n",
    "import requests\n",
    " \n",
    "con = sqlite3.connect('edgar_htm_idx.db')\n",
    "cur = con.cursor()\n",
    "cur.execute('DROP TABLE IF EXISTS idx')\n",
    "cur.execute('CREATE TABLE idx (conm TEXT, type TEXT, cik TEXT, date TEXT, path TEXT)')\n",
    " \n",
    "for url in urls:\n",
    "    lines = requests.get(url).text.splitlines()\n",
    "    nameloc = lines[7].find('Company Name')\n",
    "    typeloc = lines[7].find('Form Type')\n",
    "    cikloc = lines[7].find('CIK')\n",
    "    dateloc = lines[7].find('Date Filed')\n",
    "    urlloc = lines[7].find('URL')\n",
    "    records = [tuple([line[:typeloc].strip(), line[typeloc:cikloc].strip(), line[cikloc:dateloc].strip(),\n",
    "                      line[dateloc:urlloc].strip(), line[urlloc:].strip()]) for line in lines[9:]]\n",
    "    cur.executemany('INSERT INTO idx VALUES (?, ?, ?, ?, ?)', records)\n",
    "    print(url, 'downloaded and wrote to SQLite')\n",
    " \n",
    "con.commit()\n",
    "con.close()\n",
    " \n",
    "# Write SQLite database to Stata\n",
    "import pandas\n",
    "from sqlalchemy import create_engine\n",
    " \n",
    "engine = create_engine('sqlite:///edgar_htm_idx.db')\n",
    "with engine.connect() as conn, conn.begin():\n",
    "    data = pandas.read_sql_table('idx', conn)\n",
    "    data.to_stata('edgar_htm_idx.dta')"
   ]
  },
  {
   "cell_type": "code",
   "execution_count": 3,
   "metadata": {},
   "outputs": [
    {
     "name": "stdout",
     "output_type": "stream",
     "text": [
      "Collecting selenium\n",
      "  Using cached https://files.pythonhosted.org/packages/80/d6/4294f0b4bce4de0abf13e17190289f9d0613b0a44e5dd6a7f5ca98459853/selenium-3.141.0-py2.py3-none-any.whl\n",
      "Requirement already satisfied: urllib3 in c:\\users\\jnm\\anaconda3\\lib\\site-packages (from selenium) (1.24.2)\n",
      "Installing collected packages: selenium\n",
      "Successfully installed selenium-3.141.0\n"
     ]
    }
   ],
   "source": [
    "import sys\n",
    "!{sys.executable} -m pip install selenium"
   ]
  },
  {
   "cell_type": "code",
   "execution_count": 4,
   "metadata": {},
   "outputs": [
    {
     "ename": "FileNotFoundError",
     "evalue": "[Errno 2] No such file or directory: 'sample.csv'",
     "output_type": "error",
     "traceback": [
      "\u001b[1;31m---------------------------------------------------------------------------\u001b[0m",
      "\u001b[1;31mFileNotFoundError\u001b[0m                         Traceback (most recent call last)",
      "\u001b[1;32m<ipython-input-4-2946e3ad5411>\u001b[0m in \u001b[0;36m<module>\u001b[1;34m\u001b[0m\n\u001b[0;32m      8\u001b[0m     \u001b[0mlogwriter\u001b[0m \u001b[1;33m=\u001b[0m \u001b[0mcsv\u001b[0m\u001b[1;33m.\u001b[0m\u001b[0mwriter\u001b[0m\u001b[1;33m(\u001b[0m\u001b[0mlog\u001b[0m\u001b[1;33m)\u001b[0m\u001b[1;33m\u001b[0m\u001b[1;33m\u001b[0m\u001b[0m\n\u001b[0;32m      9\u001b[0m \u001b[1;33m\u001b[0m\u001b[0m\n\u001b[1;32m---> 10\u001b[1;33m     \u001b[1;32mwith\u001b[0m \u001b[0mopen\u001b[0m\u001b[1;33m(\u001b[0m\u001b[1;34m'sample.csv'\u001b[0m\u001b[1;33m,\u001b[0m \u001b[0mnewline\u001b[0m\u001b[1;33m=\u001b[0m\u001b[1;34m''\u001b[0m\u001b[1;33m)\u001b[0m \u001b[1;32mas\u001b[0m \u001b[0minfile\u001b[0m\u001b[1;33m:\u001b[0m\u001b[1;33m\u001b[0m\u001b[1;33m\u001b[0m\u001b[0m\n\u001b[0m\u001b[0;32m     11\u001b[0m         \u001b[0mrecords\u001b[0m \u001b[1;33m=\u001b[0m \u001b[0mcsv\u001b[0m\u001b[1;33m.\u001b[0m\u001b[0mreader\u001b[0m\u001b[1;33m(\u001b[0m\u001b[0minfile\u001b[0m\u001b[1;33m)\u001b[0m\u001b[1;33m\u001b[0m\u001b[1;33m\u001b[0m\u001b[0m\n\u001b[0;32m     12\u001b[0m \u001b[1;33m\u001b[0m\u001b[0m\n",
      "\u001b[1;31mFileNotFoundError\u001b[0m: [Errno 2] No such file or directory: 'sample.csv'"
     ]
    }
   ],
   "source": [
    "import csv\n",
    "import random\n",
    "import time\n",
    "import selenium\n",
    "from selenium import webdriver\n",
    " \n",
    "with open('log.csv', 'w', newline='') as log:\n",
    "    logwriter = csv.writer(log)\n",
    " \n",
    "    with open('sample.csv', newline='') as infile:\n",
    "        records = csv.reader(infile)\n",
    " \n",
    "        for r in records:\n",
    "            log_row = r.copy()\n",
    "            print('Start fetching URL to', r[2], r[3], 'filed on', r[4], '...')\n",
    "            start_time = time.strftime('%Y-%m-%d %H:%M:%S', time.localtime())\n",
    " \n",
    "            driver = webdriver.Chrome('./chromedriver')\n",
    " \n",
    "            try:\n",
    "                driver.get(r[5])\n",
    "                time.sleep(3 + random.random() * 3)\n",
    "                filing_date = driver.find_element_by_xpath('//*[@id=\"formDiv\"]/div[2]/div[1]/div[2]').text\n",
    "                period_of_report = driver.find_element_by_xpath('//*[@id=\"formDiv\"]/div[2]/div[2]/div[2]').text\n",
    "                form_text = driver.find_element_by_xpath('//*[@id=\"formDiv\"]/div/table/tbody/tr[2]/td[3]/a').text\n",
    "                form_link = driver.find_element_by_link_text(form_text).get_attribute('href')\n",
    "                end_time = time.strftime('%Y-%m-%d %H:%M:%S', time.localtime())\n",
    "                print('Success!', start_time, ' --> ', end_time, '\\n')\n",
    "                log_row = log_row + [start_time, end_time, filing_date, period_of_report, form_link]\n",
    " \n",
    "            except:\n",
    "                end_time = time.strftime('%Y-%m-%d %H:%M:%S', time.localtime())\n",
    "                print('Error!', start_time, ' --> ', end_time, '\\n')\n",
    "                log_row = log_row + [start_time, end_time, 'ERROR!']\n",
    " \n",
    "            driver.quit()\n",
    " \n",
    "            logwriter.writerow(log_row)"
   ]
  },
  {
   "cell_type": "code",
   "execution_count": null,
   "metadata": {},
   "outputs": [],
   "source": []
  }
 ],
 "metadata": {
  "kernelspec": {
   "display_name": "Python 3",
   "language": "python",
   "name": "python3"
  },
  "language_info": {
   "codemirror_mode": {
    "name": "ipython",
    "version": 3
   },
   "file_extension": ".py",
   "mimetype": "text/x-python",
   "name": "python",
   "nbconvert_exporter": "python",
   "pygments_lexer": "ipython3",
   "version": "3.7.4"
  }
 },
 "nbformat": 4,
 "nbformat_minor": 2
}
